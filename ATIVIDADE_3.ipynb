{
  "nbformat": 4,
  "nbformat_minor": 0,
  "metadata": {
    "colab": {
      "provenance": [],
      "authorship_tag": "ABX9TyMzITUqsgI1uROt8a1Sl4ns",
      "include_colab_link": true
    },
    "kernelspec": {
      "name": "python3",
      "display_name": "Python 3"
    },
    "language_info": {
      "name": "python"
    }
  },
  "cells": [
    {
      "cell_type": "markdown",
      "metadata": {
        "id": "view-in-github",
        "colab_type": "text"
      },
      "source": [
        "<a href=\"https://colab.research.google.com/github/REBSBRA/Dio-desafio-github-primeiro-repositorio-/blob/main/ATIVIDADE_3.ipynb\" target=\"_parent\"><img src=\"https://colab.research.google.com/assets/colab-badge.svg\" alt=\"Open In Colab\"/></a>"
      ]
    },
    {
      "cell_type": "markdown",
      "source": [
        "\n",
        "**Explicar a razão das pessoas faltarem às consultas médicas previamente agendadas**\n"
      ],
      "metadata": {
        "id": "BYjy276neXj5"
      }
    },
    {
      "cell_type": "code",
      "execution_count": 92,
      "metadata": {
        "id": "UJVXbPPudZYY"
      },
      "outputs": [],
      "source": [
        "#Vamos importar as bibliotecas e os módulos\n",
        "import pandas as pd\n",
        "import numpy as np\n",
        "import matplotlib as mat\n",
        "import matplotlib.pyplot as plt\n",
        "import joblib\n",
        "from sklearn import metrics\n",
        "from sklearn.linear_model import LogisticRegression\n",
        "from sklearn.preprocessing import MinMaxScaler\n",
        "from sklearn.model_selection import train_test_split\n",
        "from sklearn.neighbors import KNeighborsClassifier\n",
        "from sklearn.tree import DecisionTreeClassifier\n",
        "from sklearn.neural_network import MLPClassifier\n",
        "from sklearn.metrics import classification_report, confusion_matrix, accuracy_score \n",
        "%matplotlib inline\n"
      ]
    },
    {
      "cell_type": "code",
      "source": [
        "df = pd.read_csv('/consultas (1).csv')"
      ],
      "metadata": {
        "id": "utSsdq7ufpVl"
      },
      "execution_count": 93,
      "outputs": []
    },
    {
      "cell_type": "code",
      "source": [
        "df.shape\n"
      ],
      "metadata": {
        "colab": {
          "base_uri": "https://localhost:8080/"
        },
        "id": "U9t6uKzJgBnH",
        "outputId": "6c6a32b8-10ab-483a-d045-568431eaa849"
      },
      "execution_count": 94,
      "outputs": [
        {
          "output_type": "execute_result",
          "data": {
            "text/plain": [
              "(110527, 14)"
            ]
          },
          "metadata": {},
          "execution_count": 94
        }
      ]
    },
    {
      "cell_type": "code",
      "source": [
        "df.head()"
      ],
      "metadata": {
        "colab": {
          "base_uri": "https://localhost:8080/",
          "height": 374
        },
        "id": "-4VrL7vWgXSE",
        "outputId": "813d2910-962c-4bc9-ada6-975131fc75fd"
      },
      "execution_count": 95,
      "outputs": [
        {
          "output_type": "execute_result",
          "data": {
            "text/plain": [
              "      PatientId  AppointmentID Gender          ScheduledDay  \\\n",
              "0  2.987250e+13        5642903      F  2016-04-29T18:38:08Z   \n",
              "1  5.589980e+14        5642503      M  2016-04-29T16:08:27Z   \n",
              "2  4.262960e+12        5642549      F  2016-04-29T16:19:04Z   \n",
              "3  8.679510e+11        5642828      F  2016-04-29T17:29:31Z   \n",
              "4  8.841190e+12        5642494      F  2016-04-29T16:07:23Z   \n",
              "\n",
              "         AppointmentDay  Age      Neighbourhood  Scholarship  Hipertension  \\\n",
              "0  2016-04-29T00:00:00Z   62    JARDIM DA PENHA            0             1   \n",
              "1  2016-04-29T00:00:00Z   56    JARDIM DA PENHA            0             0   \n",
              "2  2016-04-29T00:00:00Z   62      MATA DA PRAIA            0             0   \n",
              "3  2016-04-29T00:00:00Z    8  PONTAL DE CAMBURI            0             0   \n",
              "4  2016-04-29T00:00:00Z   56    JARDIM DA PENHA            0             1   \n",
              "\n",
              "   Diabetes  Alcoholism  Handcap  SMS_received No-show  \n",
              "0         0           0        0             0      No  \n",
              "1         0           0        0             0      No  \n",
              "2         0           0        0             0      No  \n",
              "3         0           0        0             0      No  \n",
              "4         1           0        0             0      No  "
            ],
            "text/html": [
              "\n",
              "  <div id=\"df-adc7948d-f045-48d0-9292-c05b755330a1\">\n",
              "    <div class=\"colab-df-container\">\n",
              "      <div>\n",
              "<style scoped>\n",
              "    .dataframe tbody tr th:only-of-type {\n",
              "        vertical-align: middle;\n",
              "    }\n",
              "\n",
              "    .dataframe tbody tr th {\n",
              "        vertical-align: top;\n",
              "    }\n",
              "\n",
              "    .dataframe thead th {\n",
              "        text-align: right;\n",
              "    }\n",
              "</style>\n",
              "<table border=\"1\" class=\"dataframe\">\n",
              "  <thead>\n",
              "    <tr style=\"text-align: right;\">\n",
              "      <th></th>\n",
              "      <th>PatientId</th>\n",
              "      <th>AppointmentID</th>\n",
              "      <th>Gender</th>\n",
              "      <th>ScheduledDay</th>\n",
              "      <th>AppointmentDay</th>\n",
              "      <th>Age</th>\n",
              "      <th>Neighbourhood</th>\n",
              "      <th>Scholarship</th>\n",
              "      <th>Hipertension</th>\n",
              "      <th>Diabetes</th>\n",
              "      <th>Alcoholism</th>\n",
              "      <th>Handcap</th>\n",
              "      <th>SMS_received</th>\n",
              "      <th>No-show</th>\n",
              "    </tr>\n",
              "  </thead>\n",
              "  <tbody>\n",
              "    <tr>\n",
              "      <th>0</th>\n",
              "      <td>2.987250e+13</td>\n",
              "      <td>5642903</td>\n",
              "      <td>F</td>\n",
              "      <td>2016-04-29T18:38:08Z</td>\n",
              "      <td>2016-04-29T00:00:00Z</td>\n",
              "      <td>62</td>\n",
              "      <td>JARDIM DA PENHA</td>\n",
              "      <td>0</td>\n",
              "      <td>1</td>\n",
              "      <td>0</td>\n",
              "      <td>0</td>\n",
              "      <td>0</td>\n",
              "      <td>0</td>\n",
              "      <td>No</td>\n",
              "    </tr>\n",
              "    <tr>\n",
              "      <th>1</th>\n",
              "      <td>5.589980e+14</td>\n",
              "      <td>5642503</td>\n",
              "      <td>M</td>\n",
              "      <td>2016-04-29T16:08:27Z</td>\n",
              "      <td>2016-04-29T00:00:00Z</td>\n",
              "      <td>56</td>\n",
              "      <td>JARDIM DA PENHA</td>\n",
              "      <td>0</td>\n",
              "      <td>0</td>\n",
              "      <td>0</td>\n",
              "      <td>0</td>\n",
              "      <td>0</td>\n",
              "      <td>0</td>\n",
              "      <td>No</td>\n",
              "    </tr>\n",
              "    <tr>\n",
              "      <th>2</th>\n",
              "      <td>4.262960e+12</td>\n",
              "      <td>5642549</td>\n",
              "      <td>F</td>\n",
              "      <td>2016-04-29T16:19:04Z</td>\n",
              "      <td>2016-04-29T00:00:00Z</td>\n",
              "      <td>62</td>\n",
              "      <td>MATA DA PRAIA</td>\n",
              "      <td>0</td>\n",
              "      <td>0</td>\n",
              "      <td>0</td>\n",
              "      <td>0</td>\n",
              "      <td>0</td>\n",
              "      <td>0</td>\n",
              "      <td>No</td>\n",
              "    </tr>\n",
              "    <tr>\n",
              "      <th>3</th>\n",
              "      <td>8.679510e+11</td>\n",
              "      <td>5642828</td>\n",
              "      <td>F</td>\n",
              "      <td>2016-04-29T17:29:31Z</td>\n",
              "      <td>2016-04-29T00:00:00Z</td>\n",
              "      <td>8</td>\n",
              "      <td>PONTAL DE CAMBURI</td>\n",
              "      <td>0</td>\n",
              "      <td>0</td>\n",
              "      <td>0</td>\n",
              "      <td>0</td>\n",
              "      <td>0</td>\n",
              "      <td>0</td>\n",
              "      <td>No</td>\n",
              "    </tr>\n",
              "    <tr>\n",
              "      <th>4</th>\n",
              "      <td>8.841190e+12</td>\n",
              "      <td>5642494</td>\n",
              "      <td>F</td>\n",
              "      <td>2016-04-29T16:07:23Z</td>\n",
              "      <td>2016-04-29T00:00:00Z</td>\n",
              "      <td>56</td>\n",
              "      <td>JARDIM DA PENHA</td>\n",
              "      <td>0</td>\n",
              "      <td>1</td>\n",
              "      <td>1</td>\n",
              "      <td>0</td>\n",
              "      <td>0</td>\n",
              "      <td>0</td>\n",
              "      <td>No</td>\n",
              "    </tr>\n",
              "  </tbody>\n",
              "</table>\n",
              "</div>\n",
              "      <button class=\"colab-df-convert\" onclick=\"convertToInteractive('df-adc7948d-f045-48d0-9292-c05b755330a1')\"\n",
              "              title=\"Convert this dataframe to an interactive table.\"\n",
              "              style=\"display:none;\">\n",
              "        \n",
              "  <svg xmlns=\"http://www.w3.org/2000/svg\" height=\"24px\"viewBox=\"0 0 24 24\"\n",
              "       width=\"24px\">\n",
              "    <path d=\"M0 0h24v24H0V0z\" fill=\"none\"/>\n",
              "    <path d=\"M18.56 5.44l.94 2.06.94-2.06 2.06-.94-2.06-.94-.94-2.06-.94 2.06-2.06.94zm-11 1L8.5 8.5l.94-2.06 2.06-.94-2.06-.94L8.5 2.5l-.94 2.06-2.06.94zm10 10l.94 2.06.94-2.06 2.06-.94-2.06-.94-.94-2.06-.94 2.06-2.06.94z\"/><path d=\"M17.41 7.96l-1.37-1.37c-.4-.4-.92-.59-1.43-.59-.52 0-1.04.2-1.43.59L10.3 9.45l-7.72 7.72c-.78.78-.78 2.05 0 2.83L4 21.41c.39.39.9.59 1.41.59.51 0 1.02-.2 1.41-.59l7.78-7.78 2.81-2.81c.8-.78.8-2.07 0-2.86zM5.41 20L4 18.59l7.72-7.72 1.47 1.35L5.41 20z\"/>\n",
              "  </svg>\n",
              "      </button>\n",
              "      \n",
              "  <style>\n",
              "    .colab-df-container {\n",
              "      display:flex;\n",
              "      flex-wrap:wrap;\n",
              "      gap: 12px;\n",
              "    }\n",
              "\n",
              "    .colab-df-convert {\n",
              "      background-color: #E8F0FE;\n",
              "      border: none;\n",
              "      border-radius: 50%;\n",
              "      cursor: pointer;\n",
              "      display: none;\n",
              "      fill: #1967D2;\n",
              "      height: 32px;\n",
              "      padding: 0 0 0 0;\n",
              "      width: 32px;\n",
              "    }\n",
              "\n",
              "    .colab-df-convert:hover {\n",
              "      background-color: #E2EBFA;\n",
              "      box-shadow: 0px 1px 2px rgba(60, 64, 67, 0.3), 0px 1px 3px 1px rgba(60, 64, 67, 0.15);\n",
              "      fill: #174EA6;\n",
              "    }\n",
              "\n",
              "    [theme=dark] .colab-df-convert {\n",
              "      background-color: #3B4455;\n",
              "      fill: #D2E3FC;\n",
              "    }\n",
              "\n",
              "    [theme=dark] .colab-df-convert:hover {\n",
              "      background-color: #434B5C;\n",
              "      box-shadow: 0px 1px 3px 1px rgba(0, 0, 0, 0.15);\n",
              "      filter: drop-shadow(0px 1px 2px rgba(0, 0, 0, 0.3));\n",
              "      fill: #FFFFFF;\n",
              "    }\n",
              "  </style>\n",
              "\n",
              "      <script>\n",
              "        const buttonEl =\n",
              "          document.querySelector('#df-adc7948d-f045-48d0-9292-c05b755330a1 button.colab-df-convert');\n",
              "        buttonEl.style.display =\n",
              "          google.colab.kernel.accessAllowed ? 'block' : 'none';\n",
              "\n",
              "        async function convertToInteractive(key) {\n",
              "          const element = document.querySelector('#df-adc7948d-f045-48d0-9292-c05b755330a1');\n",
              "          const dataTable =\n",
              "            await google.colab.kernel.invokeFunction('convertToInteractive',\n",
              "                                                     [key], {});\n",
              "          if (!dataTable) return;\n",
              "\n",
              "          const docLinkHtml = 'Like what you see? Visit the ' +\n",
              "            '<a target=\"_blank\" href=https://colab.research.google.com/notebooks/data_table.ipynb>data table notebook</a>'\n",
              "            + ' to learn more about interactive tables.';\n",
              "          element.innerHTML = '';\n",
              "          dataTable['output_type'] = 'display_data';\n",
              "          await google.colab.output.renderOutput(dataTable, element);\n",
              "          const docLink = document.createElement('div');\n",
              "          docLink.innerHTML = docLinkHtml;\n",
              "          element.appendChild(docLink);\n",
              "        }\n",
              "      </script>\n",
              "    </div>\n",
              "  </div>\n",
              "  "
            ]
          },
          "metadata": {},
          "execution_count": 95
        }
      ]
    },
    {
      "cell_type": "code",
      "source": [
        "df.tail()"
      ],
      "metadata": {
        "colab": {
          "base_uri": "https://localhost:8080/",
          "height": 374
        },
        "id": "K3Zw7DOvgk87",
        "outputId": "ac18d87b-57ca-44ea-ab36-218e76d33fb0"
      },
      "execution_count": 96,
      "outputs": [
        {
          "output_type": "execute_result",
          "data": {
            "text/plain": [
              "           PatientId  AppointmentID Gender          ScheduledDay  \\\n",
              "110522  2.572130e+12        5651768      F  2016-05-03T09:15:35Z   \n",
              "110523  3.596270e+12        5650093      F  2016-05-03T07:27:33Z   \n",
              "110524  1.557660e+13        5630692      F  2016-04-27T16:03:52Z   \n",
              "110525  9.213490e+13        5630323      F  2016-04-27T15:09:23Z   \n",
              "110526  3.775120e+14        5629448      F  2016-04-27T13:30:56Z   \n",
              "\n",
              "              AppointmentDay  Age Neighbourhood  Scholarship  Hipertension  \\\n",
              "110522  2016-06-07T00:00:00Z   56   MARIA ORTIZ            0             0   \n",
              "110523  2016-06-07T00:00:00Z   51   MARIA ORTIZ            0             0   \n",
              "110524  2016-06-07T00:00:00Z   21   MARIA ORTIZ            0             0   \n",
              "110525  2016-06-07T00:00:00Z   38   MARIA ORTIZ            0             0   \n",
              "110526  2016-06-07T00:00:00Z   54   MARIA ORTIZ            0             0   \n",
              "\n",
              "        Diabetes  Alcoholism  Handcap  SMS_received No-show  \n",
              "110522         0           0        0             1      No  \n",
              "110523         0           0        0             1      No  \n",
              "110524         0           0        0             1      No  \n",
              "110525         0           0        0             1      No  \n",
              "110526         0           0        0             1      No  "
            ],
            "text/html": [
              "\n",
              "  <div id=\"df-600788c8-9c5b-4d0f-bd5b-29304798c356\">\n",
              "    <div class=\"colab-df-container\">\n",
              "      <div>\n",
              "<style scoped>\n",
              "    .dataframe tbody tr th:only-of-type {\n",
              "        vertical-align: middle;\n",
              "    }\n",
              "\n",
              "    .dataframe tbody tr th {\n",
              "        vertical-align: top;\n",
              "    }\n",
              "\n",
              "    .dataframe thead th {\n",
              "        text-align: right;\n",
              "    }\n",
              "</style>\n",
              "<table border=\"1\" class=\"dataframe\">\n",
              "  <thead>\n",
              "    <tr style=\"text-align: right;\">\n",
              "      <th></th>\n",
              "      <th>PatientId</th>\n",
              "      <th>AppointmentID</th>\n",
              "      <th>Gender</th>\n",
              "      <th>ScheduledDay</th>\n",
              "      <th>AppointmentDay</th>\n",
              "      <th>Age</th>\n",
              "      <th>Neighbourhood</th>\n",
              "      <th>Scholarship</th>\n",
              "      <th>Hipertension</th>\n",
              "      <th>Diabetes</th>\n",
              "      <th>Alcoholism</th>\n",
              "      <th>Handcap</th>\n",
              "      <th>SMS_received</th>\n",
              "      <th>No-show</th>\n",
              "    </tr>\n",
              "  </thead>\n",
              "  <tbody>\n",
              "    <tr>\n",
              "      <th>110522</th>\n",
              "      <td>2.572130e+12</td>\n",
              "      <td>5651768</td>\n",
              "      <td>F</td>\n",
              "      <td>2016-05-03T09:15:35Z</td>\n",
              "      <td>2016-06-07T00:00:00Z</td>\n",
              "      <td>56</td>\n",
              "      <td>MARIA ORTIZ</td>\n",
              "      <td>0</td>\n",
              "      <td>0</td>\n",
              "      <td>0</td>\n",
              "      <td>0</td>\n",
              "      <td>0</td>\n",
              "      <td>1</td>\n",
              "      <td>No</td>\n",
              "    </tr>\n",
              "    <tr>\n",
              "      <th>110523</th>\n",
              "      <td>3.596270e+12</td>\n",
              "      <td>5650093</td>\n",
              "      <td>F</td>\n",
              "      <td>2016-05-03T07:27:33Z</td>\n",
              "      <td>2016-06-07T00:00:00Z</td>\n",
              "      <td>51</td>\n",
              "      <td>MARIA ORTIZ</td>\n",
              "      <td>0</td>\n",
              "      <td>0</td>\n",
              "      <td>0</td>\n",
              "      <td>0</td>\n",
              "      <td>0</td>\n",
              "      <td>1</td>\n",
              "      <td>No</td>\n",
              "    </tr>\n",
              "    <tr>\n",
              "      <th>110524</th>\n",
              "      <td>1.557660e+13</td>\n",
              "      <td>5630692</td>\n",
              "      <td>F</td>\n",
              "      <td>2016-04-27T16:03:52Z</td>\n",
              "      <td>2016-06-07T00:00:00Z</td>\n",
              "      <td>21</td>\n",
              "      <td>MARIA ORTIZ</td>\n",
              "      <td>0</td>\n",
              "      <td>0</td>\n",
              "      <td>0</td>\n",
              "      <td>0</td>\n",
              "      <td>0</td>\n",
              "      <td>1</td>\n",
              "      <td>No</td>\n",
              "    </tr>\n",
              "    <tr>\n",
              "      <th>110525</th>\n",
              "      <td>9.213490e+13</td>\n",
              "      <td>5630323</td>\n",
              "      <td>F</td>\n",
              "      <td>2016-04-27T15:09:23Z</td>\n",
              "      <td>2016-06-07T00:00:00Z</td>\n",
              "      <td>38</td>\n",
              "      <td>MARIA ORTIZ</td>\n",
              "      <td>0</td>\n",
              "      <td>0</td>\n",
              "      <td>0</td>\n",
              "      <td>0</td>\n",
              "      <td>0</td>\n",
              "      <td>1</td>\n",
              "      <td>No</td>\n",
              "    </tr>\n",
              "    <tr>\n",
              "      <th>110526</th>\n",
              "      <td>3.775120e+14</td>\n",
              "      <td>5629448</td>\n",
              "      <td>F</td>\n",
              "      <td>2016-04-27T13:30:56Z</td>\n",
              "      <td>2016-06-07T00:00:00Z</td>\n",
              "      <td>54</td>\n",
              "      <td>MARIA ORTIZ</td>\n",
              "      <td>0</td>\n",
              "      <td>0</td>\n",
              "      <td>0</td>\n",
              "      <td>0</td>\n",
              "      <td>0</td>\n",
              "      <td>1</td>\n",
              "      <td>No</td>\n",
              "    </tr>\n",
              "  </tbody>\n",
              "</table>\n",
              "</div>\n",
              "      <button class=\"colab-df-convert\" onclick=\"convertToInteractive('df-600788c8-9c5b-4d0f-bd5b-29304798c356')\"\n",
              "              title=\"Convert this dataframe to an interactive table.\"\n",
              "              style=\"display:none;\">\n",
              "        \n",
              "  <svg xmlns=\"http://www.w3.org/2000/svg\" height=\"24px\"viewBox=\"0 0 24 24\"\n",
              "       width=\"24px\">\n",
              "    <path d=\"M0 0h24v24H0V0z\" fill=\"none\"/>\n",
              "    <path d=\"M18.56 5.44l.94 2.06.94-2.06 2.06-.94-2.06-.94-.94-2.06-.94 2.06-2.06.94zm-11 1L8.5 8.5l.94-2.06 2.06-.94-2.06-.94L8.5 2.5l-.94 2.06-2.06.94zm10 10l.94 2.06.94-2.06 2.06-.94-2.06-.94-.94-2.06-.94 2.06-2.06.94z\"/><path d=\"M17.41 7.96l-1.37-1.37c-.4-.4-.92-.59-1.43-.59-.52 0-1.04.2-1.43.59L10.3 9.45l-7.72 7.72c-.78.78-.78 2.05 0 2.83L4 21.41c.39.39.9.59 1.41.59.51 0 1.02-.2 1.41-.59l7.78-7.78 2.81-2.81c.8-.78.8-2.07 0-2.86zM5.41 20L4 18.59l7.72-7.72 1.47 1.35L5.41 20z\"/>\n",
              "  </svg>\n",
              "      </button>\n",
              "      \n",
              "  <style>\n",
              "    .colab-df-container {\n",
              "      display:flex;\n",
              "      flex-wrap:wrap;\n",
              "      gap: 12px;\n",
              "    }\n",
              "\n",
              "    .colab-df-convert {\n",
              "      background-color: #E8F0FE;\n",
              "      border: none;\n",
              "      border-radius: 50%;\n",
              "      cursor: pointer;\n",
              "      display: none;\n",
              "      fill: #1967D2;\n",
              "      height: 32px;\n",
              "      padding: 0 0 0 0;\n",
              "      width: 32px;\n",
              "    }\n",
              "\n",
              "    .colab-df-convert:hover {\n",
              "      background-color: #E2EBFA;\n",
              "      box-shadow: 0px 1px 2px rgba(60, 64, 67, 0.3), 0px 1px 3px 1px rgba(60, 64, 67, 0.15);\n",
              "      fill: #174EA6;\n",
              "    }\n",
              "\n",
              "    [theme=dark] .colab-df-convert {\n",
              "      background-color: #3B4455;\n",
              "      fill: #D2E3FC;\n",
              "    }\n",
              "\n",
              "    [theme=dark] .colab-df-convert:hover {\n",
              "      background-color: #434B5C;\n",
              "      box-shadow: 0px 1px 3px 1px rgba(0, 0, 0, 0.15);\n",
              "      filter: drop-shadow(0px 1px 2px rgba(0, 0, 0, 0.3));\n",
              "      fill: #FFFFFF;\n",
              "    }\n",
              "  </style>\n",
              "\n",
              "      <script>\n",
              "        const buttonEl =\n",
              "          document.querySelector('#df-600788c8-9c5b-4d0f-bd5b-29304798c356 button.colab-df-convert');\n",
              "        buttonEl.style.display =\n",
              "          google.colab.kernel.accessAllowed ? 'block' : 'none';\n",
              "\n",
              "        async function convertToInteractive(key) {\n",
              "          const element = document.querySelector('#df-600788c8-9c5b-4d0f-bd5b-29304798c356');\n",
              "          const dataTable =\n",
              "            await google.colab.kernel.invokeFunction('convertToInteractive',\n",
              "                                                     [key], {});\n",
              "          if (!dataTable) return;\n",
              "\n",
              "          const docLinkHtml = 'Like what you see? Visit the ' +\n",
              "            '<a target=\"_blank\" href=https://colab.research.google.com/notebooks/data_table.ipynb>data table notebook</a>'\n",
              "            + ' to learn more about interactive tables.';\n",
              "          element.innerHTML = '';\n",
              "          dataTable['output_type'] = 'display_data';\n",
              "          await google.colab.output.renderOutput(dataTable, element);\n",
              "          const docLink = document.createElement('div');\n",
              "          docLink.innerHTML = docLinkHtml;\n",
              "          element.appendChild(docLink);\n",
              "        }\n",
              "      </script>\n",
              "    </div>\n",
              "  </div>\n",
              "  "
            ]
          },
          "metadata": {},
          "execution_count": 96
        }
      ]
    },
    {
      "cell_type": "code",
      "source": [
        "df.columns"
      ],
      "metadata": {
        "colab": {
          "base_uri": "https://localhost:8080/"
        },
        "id": "3cboCPI3hG0w",
        "outputId": "c2f246f1-f6f0-4cfc-ffd3-33ac8199ef5e"
      },
      "execution_count": 97,
      "outputs": [
        {
          "output_type": "execute_result",
          "data": {
            "text/plain": [
              "Index(['PatientId', 'AppointmentID', 'Gender', 'ScheduledDay',\n",
              "       'AppointmentDay', 'Age', 'Neighbourhood', 'Scholarship', 'Hipertension',\n",
              "       'Diabetes', 'Alcoholism', 'Handcap', 'SMS_received', 'No-show'],\n",
              "      dtype='object')"
            ]
          },
          "metadata": {},
          "execution_count": 97
        }
      ]
    },
    {
      "cell_type": "code",
      "source": [
        "df.isnull().values.any()"
      ],
      "metadata": {
        "colab": {
          "base_uri": "https://localhost:8080/"
        },
        "id": "PA3J7Vr3haFy",
        "outputId": "6a756453-2424-4928-e893-0650e3ed58d1"
      },
      "execution_count": 98,
      "outputs": [
        {
          "output_type": "execute_result",
          "data": {
            "text/plain": [
              "False"
            ]
          },
          "metadata": {},
          "execution_count": 98
        }
      ]
    },
    {
      "cell_type": "code",
      "source": [
        "df.info()"
      ],
      "metadata": {
        "colab": {
          "base_uri": "https://localhost:8080/"
        },
        "id": "IQRQc-xzhyN-",
        "outputId": "f2f7d2d8-74b9-42c2-b310-89d51be3732a"
      },
      "execution_count": 99,
      "outputs": [
        {
          "output_type": "stream",
          "name": "stdout",
          "text": [
            "<class 'pandas.core.frame.DataFrame'>\n",
            "RangeIndex: 110527 entries, 0 to 110526\n",
            "Data columns (total 14 columns):\n",
            " #   Column          Non-Null Count   Dtype  \n",
            "---  ------          --------------   -----  \n",
            " 0   PatientId       110527 non-null  float64\n",
            " 1   AppointmentID   110527 non-null  int64  \n",
            " 2   Gender          110527 non-null  object \n",
            " 3   ScheduledDay    110527 non-null  object \n",
            " 4   AppointmentDay  110527 non-null  object \n",
            " 5   Age             110527 non-null  int64  \n",
            " 6   Neighbourhood   110527 non-null  object \n",
            " 7   Scholarship     110527 non-null  int64  \n",
            " 8   Hipertension    110527 non-null  int64  \n",
            " 9   Diabetes        110527 non-null  int64  \n",
            " 10  Alcoholism      110527 non-null  int64  \n",
            " 11  Handcap         110527 non-null  int64  \n",
            " 12  SMS_received    110527 non-null  int64  \n",
            " 13  No-show         110527 non-null  object \n",
            "dtypes: float64(1), int64(8), object(5)\n",
            "memory usage: 11.8+ MB\n"
          ]
        }
      ]
    },
    {
      "cell_type": "code",
      "source": [
        "df.describe()"
      ],
      "metadata": {
        "colab": {
          "base_uri": "https://localhost:8080/",
          "height": 300
        },
        "id": "WcX1uYPUh9OO",
        "outputId": "a7b08307-52ed-4316-a811-5649aac32ae3"
      },
      "execution_count": 100,
      "outputs": [
        {
          "output_type": "execute_result",
          "data": {
            "text/plain": [
              "          PatientId  AppointmentID            Age    Scholarship  \\\n",
              "count  1.105270e+05   1.105270e+05  110527.000000  110527.000000   \n",
              "mean   1.474963e+14   5.675305e+06      37.088874       0.098266   \n",
              "std    2.560949e+14   7.129575e+04      23.110205       0.297675   \n",
              "min    4.000000e+04   5.030230e+06      -1.000000       0.000000   \n",
              "25%    4.172615e+12   5.640286e+06      18.000000       0.000000   \n",
              "50%    3.173180e+13   5.680573e+06      37.000000       0.000000   \n",
              "75%    9.439170e+13   5.725524e+06      55.000000       0.000000   \n",
              "max    9.999820e+14   5.790484e+06     115.000000       1.000000   \n",
              "\n",
              "        Hipertension       Diabetes     Alcoholism        Handcap  \\\n",
              "count  110527.000000  110527.000000  110527.000000  110527.000000   \n",
              "mean        0.197246       0.071865       0.030400       0.022248   \n",
              "std         0.397921       0.258265       0.171686       0.161543   \n",
              "min         0.000000       0.000000       0.000000       0.000000   \n",
              "25%         0.000000       0.000000       0.000000       0.000000   \n",
              "50%         0.000000       0.000000       0.000000       0.000000   \n",
              "75%         0.000000       0.000000       0.000000       0.000000   \n",
              "max         1.000000       1.000000       1.000000       4.000000   \n",
              "\n",
              "        SMS_received  \n",
              "count  110527.000000  \n",
              "mean        0.321026  \n",
              "std         0.466873  \n",
              "min         0.000000  \n",
              "25%         0.000000  \n",
              "50%         0.000000  \n",
              "75%         1.000000  \n",
              "max         1.000000  "
            ],
            "text/html": [
              "\n",
              "  <div id=\"df-3d65e503-a6a0-4ea3-bb8c-20d807a97ee4\">\n",
              "    <div class=\"colab-df-container\">\n",
              "      <div>\n",
              "<style scoped>\n",
              "    .dataframe tbody tr th:only-of-type {\n",
              "        vertical-align: middle;\n",
              "    }\n",
              "\n",
              "    .dataframe tbody tr th {\n",
              "        vertical-align: top;\n",
              "    }\n",
              "\n",
              "    .dataframe thead th {\n",
              "        text-align: right;\n",
              "    }\n",
              "</style>\n",
              "<table border=\"1\" class=\"dataframe\">\n",
              "  <thead>\n",
              "    <tr style=\"text-align: right;\">\n",
              "      <th></th>\n",
              "      <th>PatientId</th>\n",
              "      <th>AppointmentID</th>\n",
              "      <th>Age</th>\n",
              "      <th>Scholarship</th>\n",
              "      <th>Hipertension</th>\n",
              "      <th>Diabetes</th>\n",
              "      <th>Alcoholism</th>\n",
              "      <th>Handcap</th>\n",
              "      <th>SMS_received</th>\n",
              "    </tr>\n",
              "  </thead>\n",
              "  <tbody>\n",
              "    <tr>\n",
              "      <th>count</th>\n",
              "      <td>1.105270e+05</td>\n",
              "      <td>1.105270e+05</td>\n",
              "      <td>110527.000000</td>\n",
              "      <td>110527.000000</td>\n",
              "      <td>110527.000000</td>\n",
              "      <td>110527.000000</td>\n",
              "      <td>110527.000000</td>\n",
              "      <td>110527.000000</td>\n",
              "      <td>110527.000000</td>\n",
              "    </tr>\n",
              "    <tr>\n",
              "      <th>mean</th>\n",
              "      <td>1.474963e+14</td>\n",
              "      <td>5.675305e+06</td>\n",
              "      <td>37.088874</td>\n",
              "      <td>0.098266</td>\n",
              "      <td>0.197246</td>\n",
              "      <td>0.071865</td>\n",
              "      <td>0.030400</td>\n",
              "      <td>0.022248</td>\n",
              "      <td>0.321026</td>\n",
              "    </tr>\n",
              "    <tr>\n",
              "      <th>std</th>\n",
              "      <td>2.560949e+14</td>\n",
              "      <td>7.129575e+04</td>\n",
              "      <td>23.110205</td>\n",
              "      <td>0.297675</td>\n",
              "      <td>0.397921</td>\n",
              "      <td>0.258265</td>\n",
              "      <td>0.171686</td>\n",
              "      <td>0.161543</td>\n",
              "      <td>0.466873</td>\n",
              "    </tr>\n",
              "    <tr>\n",
              "      <th>min</th>\n",
              "      <td>4.000000e+04</td>\n",
              "      <td>5.030230e+06</td>\n",
              "      <td>-1.000000</td>\n",
              "      <td>0.000000</td>\n",
              "      <td>0.000000</td>\n",
              "      <td>0.000000</td>\n",
              "      <td>0.000000</td>\n",
              "      <td>0.000000</td>\n",
              "      <td>0.000000</td>\n",
              "    </tr>\n",
              "    <tr>\n",
              "      <th>25%</th>\n",
              "      <td>4.172615e+12</td>\n",
              "      <td>5.640286e+06</td>\n",
              "      <td>18.000000</td>\n",
              "      <td>0.000000</td>\n",
              "      <td>0.000000</td>\n",
              "      <td>0.000000</td>\n",
              "      <td>0.000000</td>\n",
              "      <td>0.000000</td>\n",
              "      <td>0.000000</td>\n",
              "    </tr>\n",
              "    <tr>\n",
              "      <th>50%</th>\n",
              "      <td>3.173180e+13</td>\n",
              "      <td>5.680573e+06</td>\n",
              "      <td>37.000000</td>\n",
              "      <td>0.000000</td>\n",
              "      <td>0.000000</td>\n",
              "      <td>0.000000</td>\n",
              "      <td>0.000000</td>\n",
              "      <td>0.000000</td>\n",
              "      <td>0.000000</td>\n",
              "    </tr>\n",
              "    <tr>\n",
              "      <th>75%</th>\n",
              "      <td>9.439170e+13</td>\n",
              "      <td>5.725524e+06</td>\n",
              "      <td>55.000000</td>\n",
              "      <td>0.000000</td>\n",
              "      <td>0.000000</td>\n",
              "      <td>0.000000</td>\n",
              "      <td>0.000000</td>\n",
              "      <td>0.000000</td>\n",
              "      <td>1.000000</td>\n",
              "    </tr>\n",
              "    <tr>\n",
              "      <th>max</th>\n",
              "      <td>9.999820e+14</td>\n",
              "      <td>5.790484e+06</td>\n",
              "      <td>115.000000</td>\n",
              "      <td>1.000000</td>\n",
              "      <td>1.000000</td>\n",
              "      <td>1.000000</td>\n",
              "      <td>1.000000</td>\n",
              "      <td>4.000000</td>\n",
              "      <td>1.000000</td>\n",
              "    </tr>\n",
              "  </tbody>\n",
              "</table>\n",
              "</div>\n",
              "      <button class=\"colab-df-convert\" onclick=\"convertToInteractive('df-3d65e503-a6a0-4ea3-bb8c-20d807a97ee4')\"\n",
              "              title=\"Convert this dataframe to an interactive table.\"\n",
              "              style=\"display:none;\">\n",
              "        \n",
              "  <svg xmlns=\"http://www.w3.org/2000/svg\" height=\"24px\"viewBox=\"0 0 24 24\"\n",
              "       width=\"24px\">\n",
              "    <path d=\"M0 0h24v24H0V0z\" fill=\"none\"/>\n",
              "    <path d=\"M18.56 5.44l.94 2.06.94-2.06 2.06-.94-2.06-.94-.94-2.06-.94 2.06-2.06.94zm-11 1L8.5 8.5l.94-2.06 2.06-.94-2.06-.94L8.5 2.5l-.94 2.06-2.06.94zm10 10l.94 2.06.94-2.06 2.06-.94-2.06-.94-.94-2.06-.94 2.06-2.06.94z\"/><path d=\"M17.41 7.96l-1.37-1.37c-.4-.4-.92-.59-1.43-.59-.52 0-1.04.2-1.43.59L10.3 9.45l-7.72 7.72c-.78.78-.78 2.05 0 2.83L4 21.41c.39.39.9.59 1.41.59.51 0 1.02-.2 1.41-.59l7.78-7.78 2.81-2.81c.8-.78.8-2.07 0-2.86zM5.41 20L4 18.59l7.72-7.72 1.47 1.35L5.41 20z\"/>\n",
              "  </svg>\n",
              "      </button>\n",
              "      \n",
              "  <style>\n",
              "    .colab-df-container {\n",
              "      display:flex;\n",
              "      flex-wrap:wrap;\n",
              "      gap: 12px;\n",
              "    }\n",
              "\n",
              "    .colab-df-convert {\n",
              "      background-color: #E8F0FE;\n",
              "      border: none;\n",
              "      border-radius: 50%;\n",
              "      cursor: pointer;\n",
              "      display: none;\n",
              "      fill: #1967D2;\n",
              "      height: 32px;\n",
              "      padding: 0 0 0 0;\n",
              "      width: 32px;\n",
              "    }\n",
              "\n",
              "    .colab-df-convert:hover {\n",
              "      background-color: #E2EBFA;\n",
              "      box-shadow: 0px 1px 2px rgba(60, 64, 67, 0.3), 0px 1px 3px 1px rgba(60, 64, 67, 0.15);\n",
              "      fill: #174EA6;\n",
              "    }\n",
              "\n",
              "    [theme=dark] .colab-df-convert {\n",
              "      background-color: #3B4455;\n",
              "      fill: #D2E3FC;\n",
              "    }\n",
              "\n",
              "    [theme=dark] .colab-df-convert:hover {\n",
              "      background-color: #434B5C;\n",
              "      box-shadow: 0px 1px 3px 1px rgba(0, 0, 0, 0.15);\n",
              "      filter: drop-shadow(0px 1px 2px rgba(0, 0, 0, 0.3));\n",
              "      fill: #FFFFFF;\n",
              "    }\n",
              "  </style>\n",
              "\n",
              "      <script>\n",
              "        const buttonEl =\n",
              "          document.querySelector('#df-3d65e503-a6a0-4ea3-bb8c-20d807a97ee4 button.colab-df-convert');\n",
              "        buttonEl.style.display =\n",
              "          google.colab.kernel.accessAllowed ? 'block' : 'none';\n",
              "\n",
              "        async function convertToInteractive(key) {\n",
              "          const element = document.querySelector('#df-3d65e503-a6a0-4ea3-bb8c-20d807a97ee4');\n",
              "          const dataTable =\n",
              "            await google.colab.kernel.invokeFunction('convertToInteractive',\n",
              "                                                     [key], {});\n",
              "          if (!dataTable) return;\n",
              "\n",
              "          const docLinkHtml = 'Like what you see? Visit the ' +\n",
              "            '<a target=\"_blank\" href=https://colab.research.google.com/notebooks/data_table.ipynb>data table notebook</a>'\n",
              "            + ' to learn more about interactive tables.';\n",
              "          element.innerHTML = '';\n",
              "          dataTable['output_type'] = 'display_data';\n",
              "          await google.colab.output.renderOutput(dataTable, element);\n",
              "          const docLink = document.createElement('div');\n",
              "          docLink.innerHTML = docLinkHtml;\n",
              "          element.appendChild(docLink);\n",
              "        }\n",
              "      </script>\n",
              "    </div>\n",
              "  </div>\n",
              "  "
            ]
          },
          "metadata": {},
          "execution_count": 100
        }
      ]
    },
    {
      "cell_type": "code",
      "source": [
        "df['Hipertension'].value_counts()"
      ],
      "metadata": {
        "colab": {
          "base_uri": "https://localhost:8080/"
        },
        "id": "g-Us3dhyjTkA",
        "outputId": "df00f24a-bbfd-40df-933d-86cb8f9205be"
      },
      "execution_count": 101,
      "outputs": [
        {
          "output_type": "execute_result",
          "data": {
            "text/plain": [
              "0    88726\n",
              "1    21801\n",
              "Name: Hipertension, dtype: int64"
            ]
          },
          "metadata": {},
          "execution_count": 101
        }
      ]
    },
    {
      "cell_type": "code",
      "source": [
        "!pip install sweetviz\n",
        "import sweetviz as sv"
      ],
      "metadata": {
        "colab": {
          "base_uri": "https://localhost:8080/"
        },
        "id": "oU9noG8nkX3q",
        "outputId": "6444c72b-6114-4457-aa55-085f7d1cbe04"
      },
      "execution_count": 102,
      "outputs": [
        {
          "output_type": "stream",
          "name": "stdout",
          "text": [
            "Looking in indexes: https://pypi.org/simple, https://us-python.pkg.dev/colab-wheels/public/simple/\n",
            "Requirement already satisfied: sweetviz in /usr/local/lib/python3.7/dist-packages (2.1.4)\n",
            "Requirement already satisfied: pandas!=1.0.0,!=1.0.1,!=1.0.2,>=0.25.3 in /usr/local/lib/python3.7/dist-packages (from sweetviz) (1.3.5)\n",
            "Requirement already satisfied: importlib-resources>=1.2.0 in /usr/local/lib/python3.7/dist-packages (from sweetviz) (5.10.0)\n",
            "Requirement already satisfied: numpy>=1.16.0 in /usr/local/lib/python3.7/dist-packages (from sweetviz) (1.21.6)\n",
            "Requirement already satisfied: scipy>=1.3.2 in /usr/local/lib/python3.7/dist-packages (from sweetviz) (1.7.3)\n",
            "Requirement already satisfied: matplotlib>=3.1.3 in /usr/local/lib/python3.7/dist-packages (from sweetviz) (3.2.2)\n",
            "Requirement already satisfied: tqdm>=4.43.0 in /usr/local/lib/python3.7/dist-packages (from sweetviz) (4.64.1)\n",
            "Requirement already satisfied: jinja2>=2.11.1 in /usr/local/lib/python3.7/dist-packages (from sweetviz) (2.11.3)\n",
            "Requirement already satisfied: zipp>=3.1.0 in /usr/local/lib/python3.7/dist-packages (from importlib-resources>=1.2.0->sweetviz) (3.10.0)\n",
            "Requirement already satisfied: MarkupSafe>=0.23 in /usr/local/lib/python3.7/dist-packages (from jinja2>=2.11.1->sweetviz) (2.0.1)\n",
            "Requirement already satisfied: pyparsing!=2.0.4,!=2.1.2,!=2.1.6,>=2.0.1 in /usr/local/lib/python3.7/dist-packages (from matplotlib>=3.1.3->sweetviz) (3.0.9)\n",
            "Requirement already satisfied: cycler>=0.10 in /usr/local/lib/python3.7/dist-packages (from matplotlib>=3.1.3->sweetviz) (0.11.0)\n",
            "Requirement already satisfied: python-dateutil>=2.1 in /usr/local/lib/python3.7/dist-packages (from matplotlib>=3.1.3->sweetviz) (2.8.2)\n",
            "Requirement already satisfied: kiwisolver>=1.0.1 in /usr/local/lib/python3.7/dist-packages (from matplotlib>=3.1.3->sweetviz) (1.4.4)\n",
            "Requirement already satisfied: typing-extensions in /usr/local/lib/python3.7/dist-packages (from kiwisolver>=1.0.1->matplotlib>=3.1.3->sweetviz) (4.1.1)\n",
            "Requirement already satisfied: pytz>=2017.3 in /usr/local/lib/python3.7/dist-packages (from pandas!=1.0.0,!=1.0.1,!=1.0.2,>=0.25.3->sweetviz) (2022.6)\n",
            "Requirement already satisfied: six>=1.5 in /usr/local/lib/python3.7/dist-packages (from python-dateutil>=2.1->matplotlib>=3.1.3->sweetviz) (1.15.0)\n"
          ]
        }
      ]
    },
    {
      "cell_type": "code",
      "source": [
        "def plot_corr(df,size=7):\n",
        "  corr= df.corr()\n",
        "  fig, ax = plt.subplots(figsize=(size, size))\n",
        "  ax.matshow(corr)\n",
        "  plt.xticks(range(len(corr.columns)), corr.columns)\n",
        "  plt.yticks(range(len(corr.columns)), corr.columns)\n"
      ],
      "metadata": {
        "id": "U7nDcQ_nln-o"
      },
      "execution_count": 103,
      "outputs": []
    },
    {
      "cell_type": "code",
      "source": [
        "plot_corr(df)"
      ],
      "metadata": {
        "colab": {
          "base_uri": "https://localhost:8080/",
          "height": 428
        },
        "id": "6LmteiOEmjFf",
        "outputId": "eac2ce17-0c8a-4fb9-a48b-781a6a18a989"
      },
      "execution_count": 104,
      "outputs": [
        {
          "output_type": "display_data",
          "data": {
            "text/plain": [
              "<Figure size 504x504 with 1 Axes>"
            ],
            "image/png": "[encoded data removed]"
          },
          "metadata": {
            "needs_background": "light"
          }
        }
      ]
    },
    {
      "cell_type": "code",
      "source": [
        "df.corr()"
      ],
      "metadata": {
        "colab": {
          "base_uri": "https://localhost:8080/",
          "height": 332
        },
        "id": "wrSBV6w9nNEH",
        "outputId": "d427832c-08f2-4beb-fea3-c70a94dd213b"
      },
      "execution_count": 105,
      "outputs": [
        {
          "output_type": "execute_result",
          "data": {
            "text/plain": [
              "               PatientId  AppointmentID       Age  Scholarship  Hipertension  \\\n",
              "PatientId       1.000000       0.004039 -0.004139    -0.002880     -0.006441   \n",
              "AppointmentID   0.004039       1.000000 -0.019126     0.022615      0.012752   \n",
              "Age            -0.004139      -0.019126  1.000000    -0.092457      0.504586   \n",
              "Scholarship    -0.002880       0.022615 -0.092457     1.000000     -0.019729   \n",
              "Hipertension   -0.006441       0.012752  0.504586    -0.019729      1.000000   \n",
              "Diabetes        0.001605       0.022628  0.292391    -0.024894      0.433086   \n",
              "Alcoholism      0.011011       0.032944  0.095811     0.035022      0.087971   \n",
              "Handcap        -0.007916       0.014106  0.078033    -0.008586      0.080083   \n",
              "SMS_received   -0.009749      -0.256618  0.012643     0.001194     -0.006267   \n",
              "\n",
              "               Diabetes  Alcoholism   Handcap  SMS_received  \n",
              "PatientId      0.001605    0.011011 -0.007916     -0.009749  \n",
              "AppointmentID  0.022628    0.032944  0.014106     -0.256618  \n",
              "Age            0.292391    0.095811  0.078033      0.012643  \n",
              "Scholarship   -0.024894    0.035022 -0.008586      0.001194  \n",
              "Hipertension   0.433086    0.087971  0.080083     -0.006267  \n",
              "Diabetes       1.000000    0.018474  0.057530     -0.014550  \n",
              "Alcoholism     0.018474    1.000000  0.004648     -0.026147  \n",
              "Handcap        0.057530    0.004648  1.000000     -0.024161  \n",
              "SMS_received  -0.014550   -0.026147 -0.024161      1.000000  "
            ],
            "text/html": [
              "\n",
              "  <div id=\"df-97658fc7-e3d0-4bb4-b4a0-224fd57480bc\">\n",
              "    <div class=\"colab-df-container\">\n",
              "      <div>\n",
              "<style scoped>\n",
              "    .dataframe tbody tr th:only-of-type {\n",
              "        vertical-align: middle;\n",
              "    }\n",
              "\n",
              "    .dataframe tbody tr th {\n",
              "        vertical-align: top;\n",
              "    }\n",
              "\n",
              "    .dataframe thead th {\n",
              "        text-align: right;\n",
              "    }\n",
              "</style>\n",
              "<table border=\"1\" class=\"dataframe\">\n",
              "  <thead>\n",
              "    <tr style=\"text-align: right;\">\n",
              "      <th></th>\n",
              "      <th>PatientId</th>\n",
              "      <th>AppointmentID</th>\n",
              "      <th>Age</th>\n",
              "      <th>Scholarship</th>\n",
              "      <th>Hipertension</th>\n",
              "      <th>Diabetes</th>\n",
              "      <th>Alcoholism</th>\n",
              "      <th>Handcap</th>\n",
              "      <th>SMS_received</th>\n",
              "    </tr>\n",
              "  </thead>\n",
              "  <tbody>\n",
              "    <tr>\n",
              "      <th>PatientId</th>\n",
              "      <td>1.000000</td>\n",
              "      <td>0.004039</td>\n",
              "      <td>-0.004139</td>\n",
              "      <td>-0.002880</td>\n",
              "      <td>-0.006441</td>\n",
              "      <td>0.001605</td>\n",
              "      <td>0.011011</td>\n",
              "      <td>-0.007916</td>\n",
              "      <td>-0.009749</td>\n",
              "    </tr>\n",
              "    <tr>\n",
              "      <th>AppointmentID</th>\n",
              "      <td>0.004039</td>\n",
              "      <td>1.000000</td>\n",
              "      <td>-0.019126</td>\n",
              "      <td>0.022615</td>\n",
              "      <td>0.012752</td>\n",
              "      <td>0.022628</td>\n",
              "      <td>0.032944</td>\n",
              "      <td>0.014106</td>\n",
              "      <td>-0.256618</td>\n",
              "    </tr>\n",
              "    <tr>\n",
              "      <th>Age</th>\n",
              "      <td>-0.004139</td>\n",
              "      <td>-0.019126</td>\n",
              "      <td>1.000000</td>\n",
              "      <td>-0.092457</td>\n",
              "      <td>0.504586</td>\n",
              "      <td>0.292391</td>\n",
              "      <td>0.095811</td>\n",
              "      <td>0.078033</td>\n",
              "      <td>0.012643</td>\n",
              "    </tr>\n",
              "    <tr>\n",
              "      <th>Scholarship</th>\n",
              "      <td>-0.002880</td>\n",
              "      <td>0.022615</td>\n",
              "      <td>-0.092457</td>\n",
              "      <td>1.000000</td>\n",
              "      <td>-0.019729</td>\n",
              "      <td>-0.024894</td>\n",
              "      <td>0.035022</td>\n",
              "      <td>-0.008586</td>\n",
              "      <td>0.001194</td>\n",
              "    </tr>\n",
              "    <tr>\n",
              "      <th>Hipertension</th>\n",
              "      <td>-0.006441</td>\n",
              "      <td>0.012752</td>\n",
              "      <td>0.504586</td>\n",
              "      <td>-0.019729</td>\n",
              "      <td>1.000000</td>\n",
              "      <td>0.433086</td>\n",
              "      <td>0.087971</td>\n",
              "      <td>0.080083</td>\n",
              "      <td>-0.006267</td>\n",
              "    </tr>\n",
              "    <tr>\n",
              "      <th>Diabetes</th>\n",
              "      <td>0.001605</td>\n",
              "      <td>0.022628</td>\n",
              "      <td>0.292391</td>\n",
              "      <td>-0.024894</td>\n",
              "      <td>0.433086</td>\n",
              "      <td>1.000000</td>\n",
              "      <td>0.018474</td>\n",
              "      <td>0.057530</td>\n",
              "      <td>-0.014550</td>\n",
              "    </tr>\n",
              "    <tr>\n",
              "      <th>Alcoholism</th>\n",
              "      <td>0.011011</td>\n",
              "      <td>0.032944</td>\n",
              "      <td>0.095811</td>\n",
              "      <td>0.035022</td>\n",
              "      <td>0.087971</td>\n",
              "      <td>0.018474</td>\n",
              "      <td>1.000000</td>\n",
              "      <td>0.004648</td>\n",
              "      <td>-0.026147</td>\n",
              "    </tr>\n",
              "    <tr>\n",
              "      <th>Handcap</th>\n",
              "      <td>-0.007916</td>\n",
              "      <td>0.014106</td>\n",
              "      <td>0.078033</td>\n",
              "      <td>-0.008586</td>\n",
              "      <td>0.080083</td>\n",
              "      <td>0.057530</td>\n",
              "      <td>0.004648</td>\n",
              "      <td>1.000000</td>\n",
              "      <td>-0.024161</td>\n",
              "    </tr>\n",
              "    <tr>\n",
              "      <th>SMS_received</th>\n",
              "      <td>-0.009749</td>\n",
              "      <td>-0.256618</td>\n",
              "      <td>0.012643</td>\n",
              "      <td>0.001194</td>\n",
              "      <td>-0.006267</td>\n",
              "      <td>-0.014550</td>\n",
              "      <td>-0.026147</td>\n",
              "      <td>-0.024161</td>\n",
              "      <td>1.000000</td>\n",
              "    </tr>\n",
              "  </tbody>\n",
              "</table>\n",
              "</div>\n",
              "      <button class=\"colab-df-convert\" onclick=\"convertToInteractive('df-97658fc7-e3d0-4bb4-b4a0-224fd57480bc')\"\n",
              "              title=\"Convert this dataframe to an interactive table.\"\n",
              "              style=\"display:none;\">\n",
              "        \n",
              "  <svg xmlns=\"http://www.w3.org/2000/svg\" height=\"24px\"viewBox=\"0 0 24 24\"\n",
              "       width=\"24px\">\n",
              "    <path d=\"M0 0h24v24H0V0z\" fill=\"none\"/>\n",
              "    <path d=\"M18.56 5.44l.94 2.06.94-2.06 2.06-.94-2.06-.94-.94-2.06-.94 2.06-2.06.94zm-11 1L8.5 8.5l.94-2.06 2.06-.94-2.06-.94L8.5 2.5l-.94 2.06-2.06.94zm10 10l.94 2.06.94-2.06 2.06-.94-2.06-.94-.94-2.06-.94 2.06-2.06.94z\"/><path d=\"M17.41 7.96l-1.37-1.37c-.4-.4-.92-.59-1.43-.59-.52 0-1.04.2-1.43.59L10.3 9.45l-7.72 7.72c-.78.78-.78 2.05 0 2.83L4 21.41c.39.39.9.59 1.41.59.51 0 1.02-.2 1.41-.59l7.78-7.78 2.81-2.81c.8-.78.8-2.07 0-2.86zM5.41 20L4 18.59l7.72-7.72 1.47 1.35L5.41 20z\"/>\n",
              "  </svg>\n",
              "      </button>\n",
              "      \n",
              "  <style>\n",
              "    .colab-df-container {\n",
              "      display:flex;\n",
              "      flex-wrap:wrap;\n",
              "      gap: 12px;\n",
              "    }\n",
              "\n",
              "    .colab-df-convert {\n",
              "      background-color: #E8F0FE;\n",
              "      border: none;\n",
              "      border-radius: 50%;\n",
              "      cursor: pointer;\n",
              "      display: none;\n",
              "      fill: #1967D2;\n",
              "      height: 32px;\n",
              "      padding: 0 0 0 0;\n",
              "      width: 32px;\n",
              "    }\n",
              "\n",
              "    .colab-df-convert:hover {\n",
              "      background-color: #E2EBFA;\n",
              "      box-shadow: 0px 1px 2px rgba(60, 64, 67, 0.3), 0px 1px 3px 1px rgba(60, 64, 67, 0.15);\n",
              "      fill: #174EA6;\n",
              "    }\n",
              "\n",
              "    [theme=dark] .colab-df-convert {\n",
              "      background-color: #3B4455;\n",
              "      fill: #D2E3FC;\n",
              "    }\n",
              "\n",
              "    [theme=dark] .colab-df-convert:hover {\n",
              "      background-color: #434B5C;\n",
              "      box-shadow: 0px 1px 3px 1px rgba(0, 0, 0, 0.15);\n",
              "      filter: drop-shadow(0px 1px 2px rgba(0, 0, 0, 0.3));\n",
              "      fill: #FFFFFF;\n",
              "    }\n",
              "  </style>\n",
              "\n",
              "      <script>\n",
              "        const buttonEl =\n",
              "          document.querySelector('#df-97658fc7-e3d0-4bb4-b4a0-224fd57480bc button.colab-df-convert');\n",
              "        buttonEl.style.display =\n",
              "          google.colab.kernel.accessAllowed ? 'block' : 'none';\n",
              "\n",
              "        async function convertToInteractive(key) {\n",
              "          const element = document.querySelector('#df-97658fc7-e3d0-4bb4-b4a0-224fd57480bc');\n",
              "          const dataTable =\n",
              "            await google.colab.kernel.invokeFunction('convertToInteractive',\n",
              "                                                     [key], {});\n",
              "          if (!dataTable) return;\n",
              "\n",
              "          const docLinkHtml = 'Like what you see? Visit the ' +\n",
              "            '<a target=\"_blank\" href=https://colab.research.google.com/notebooks/data_table.ipynb>data table notebook</a>'\n",
              "            + ' to learn more about interactive tables.';\n",
              "          element.innerHTML = '';\n",
              "          dataTable['output_type'] = 'display_data';\n",
              "          await google.colab.output.renderOutput(dataTable, element);\n",
              "          const docLink = document.createElement('div');\n",
              "          docLink.innerHTML = docLinkHtml;\n",
              "          element.appendChild(docLink);\n",
              "        }\n",
              "      </script>\n",
              "    </div>\n",
              "  </div>\n",
              "  "
            ]
          },
          "metadata": {},
          "execution_count": 105
        }
      ]
    },
    {
      "cell_type": "code",
      "source": [
        "num_true = len(df.loc[df['Hipertension'] == True])\n",
        "num_false = len(df.loc[df['Hipertension'] == False])\n",
        "print(\"Número de Casos Verdadeiros: {0} ({1:2.2f}%)\".format(num_true, (num_true/ (num_true + num_false)) * 100))\n",
        "print(\"Número de Casos Falsos     : {0} ({1:2.2f}%)\".format(num_false, (num_false/ (num_true + num_false)) * 100))"
      ],
      "metadata": {
        "colab": {
          "base_uri": "https://localhost:8080/"
        },
        "id": "7Ycntsnmneo_",
        "outputId": "87025a4d-209c-4bf3-ffd9-8a0bd23e3efd"
      },
      "execution_count": 106,
      "outputs": [
        {
          "output_type": "stream",
          "name": "stdout",
          "text": [
            "Número de Casos Verdadeiros: 21801 (19.72%)\n",
            "Número de Casos Falsos     : 88726 (80.28%)\n"
          ]
        }
      ]
    },
    {
      "cell_type": "code",
      "source": [
        "import sklearn as sk\n",
        "sk.__version__"
      ],
      "metadata": {
        "colab": {
          "base_uri": "https://localhost:8080/",
          "height": 35
        },
        "id": "1Ci8n7hNnqAQ",
        "outputId": "5ff0bba6-189e-4d00-fa75-b5277948a17f"
      },
      "execution_count": 107,
      "outputs": [
        {
          "output_type": "execute_result",
          "data": {
            "text/plain": [
              "'1.0.2'"
            ],
            "application/vnd.google.colaboratory.intrinsic+json": {
              "type": "string"
            }
          },
          "metadata": {},
          "execution_count": 107
        }
      ]
    },
    {
      "cell_type": "code",
      "source": [
        "from sklearn.model_selection import train_test_split"
      ],
      "metadata": {
        "id": "nYCLIprbnw8S"
      },
      "execution_count": 108,
      "outputs": []
    },
    {
      "cell_type": "code",
      "source": [
        "atributos = ['AppointmentID', 'Age', 'Scholarship', 'Hipertension', 'Diabetes', 'Alcoholism', 'Handcap', 'SMS_received']"
      ],
      "metadata": {
        "id": "jnPMvbVZoQHt"
      },
      "execution_count": 109,
      "outputs": []
    },
    {
      "cell_type": "code",
      "source": [
        "atributos_prev = ['Hipertension']"
      ],
      "metadata": {
        "id": "10t1iZVZo9--"
      },
      "execution_count": 110,
      "outputs": []
    },
    {
      "cell_type": "code",
      "source": [
        "x = df[atributos].values\n",
        "y = df[atributos_prev].values"
      ],
      "metadata": {
        "id": "4cs_sC-8pETW"
      },
      "execution_count": 111,
      "outputs": []
    },
    {
      "cell_type": "code",
      "source": [
        "x"
      ],
      "metadata": {
        "colab": {
          "base_uri": "https://localhost:8080/"
        },
        "id": "4lazvB6OpYWb",
        "outputId": "8749a376-88bf-418f-961f-aa0ec408df6d"
      },
      "execution_count": 112,
      "outputs": [
        {
          "output_type": "execute_result",
          "data": {
            "text/plain": [
              "array([[5642903,      62,       0, ...,       0,       0,       0],\n",
              "       [5642503,      56,       0, ...,       0,       0,       0],\n",
              "       [5642549,      62,       0, ...,       0,       0,       0],\n",
              "       ...,\n",
              "       [5630692,      21,       0, ...,       0,       0,       1],\n",
              "       [5630323,      38,       0, ...,       0,       0,       1],\n",
              "       [5629448,      54,       0, ...,       0,       0,       1]])"
            ]
          },
          "metadata": {},
          "execution_count": 112
        }
      ]
    },
    {
      "cell_type": "code",
      "source": [
        "y"
      ],
      "metadata": {
        "colab": {
          "base_uri": "https://localhost:8080/"
        },
        "id": "M57BsoR3pj9W",
        "outputId": "fd3c2ade-ccdc-4c6c-c6a1-194e923311d5"
      },
      "execution_count": 113,
      "outputs": [
        {
          "output_type": "execute_result",
          "data": {
            "text/plain": [
              "array([[1],\n",
              "       [0],\n",
              "       [0],\n",
              "       ...,\n",
              "       [0],\n",
              "       [0],\n",
              "       [0]])"
            ]
          },
          "metadata": {},
          "execution_count": 113
        }
      ]
    },
    {
      "cell_type": "code",
      "source": [
        "df.isnull().values.any()"
      ],
      "metadata": {
        "colab": {
          "base_uri": "https://localhost:8080/"
        },
        "id": "O-tzt0Y4snVI",
        "outputId": "b93b3264-3c88-4c7b-be52-2605ee061138"
      },
      "execution_count": 114,
      "outputs": [
        {
          "output_type": "execute_result",
          "data": {
            "text/plain": [
              "False"
            ]
          },
          "metadata": {},
          "execution_count": 114
        }
      ]
    },
    {
      "cell_type": "code",
      "source": [
        "from sklearn.impute import SimpleImputer"
      ],
      "metadata": {
        "id": "gL8dm2uFstI_"
      },
      "execution_count": 115,
      "outputs": []
    },
    {
      "cell_type": "code",
      "source": [
        "preenche_0 = SimpleImputer(missing_values = 0, strategy = \"mean\")\n",
        "x_treino = preenche_0.fit_transform(x_treino)"
      ],
      "metadata": {
        "id": "umYOlNN6syW9"
      },
      "execution_count": 116,
      "outputs": []
    },
    {
      "cell_type": "code",
      "source": [
        "x_treino"
      ],
      "metadata": {
        "colab": {
          "base_uri": "https://localhost:8080/"
        },
        "id": "szfFJjVPs2Y9",
        "outputId": "d5b08f79-5810-4d65-9735-670a4b16aab8"
      },
      "execution_count": 117,
      "outputs": [
        {
          "output_type": "execute_result",
          "data": {
            "text/plain": [
              "array([[5.687610e+06, 2.500000e+01, 1.000000e+00, ..., 1.000000e+00,\n",
              "        1.100000e+00, 1.000000e+00],\n",
              "       [5.694484e+06, 6.200000e+01, 1.000000e+00, ..., 1.000000e+00,\n",
              "        1.100000e+00, 1.000000e+00],\n",
              "       [5.500939e+06, 6.500000e+01, 1.000000e+00, ..., 1.000000e+00,\n",
              "        1.100000e+00, 1.000000e+00],\n",
              "       ...,\n",
              "       [5.762864e+06, 3.800000e+01, 1.000000e+00, ..., 1.000000e+00,\n",
              "        1.100000e+00, 1.000000e+00],\n",
              "       [5.639951e+06, 1.800000e+01, 1.000000e+00, ..., 1.000000e+00,\n",
              "        1.100000e+00, 1.000000e+00],\n",
              "       [5.637593e+06, 9.000000e+00, 1.000000e+00, ..., 1.000000e+00,\n",
              "        1.100000e+00, 1.000000e+00]])"
            ]
          },
          "metadata": {},
          "execution_count": 117
        }
      ]
    },
    {
      "cell_type": "code",
      "source": [
        "split_test_size = 0.20"
      ],
      "metadata": {
        "id": "iUuVAwOGptDS"
      },
      "execution_count": 118,
      "outputs": []
    },
    {
      "cell_type": "code",
      "source": [
        "from sklearn.model_selection import train_test_split"
      ],
      "metadata": {
        "id": "vdsi661mp2f7"
      },
      "execution_count": 119,
      "outputs": []
    },
    {
      "cell_type": "code",
      "source": [
        "x_treino, x_teste, y_treino, y_teste = train_test_split(x, y, test_size = split_test_size, random_state = 42)"
      ],
      "metadata": {
        "id": "vk9XkV7fp4Rb"
      },
      "execution_count": 120,
      "outputs": []
    },
    {
      "cell_type": "code",
      "source": [
        "print('{0:0.2f}% nos dados de treino'.format((len(x_treino)/len(df.index)) *100))\n",
        "print('{0:0.2f}% nos dados de teste'.format((len(x_teste)/len(df.index)) *100))"
      ],
      "metadata": {
        "colab": {
          "base_uri": "https://localhost:8080/"
        },
        "id": "xdzXeMbaqNxy",
        "outputId": "7bb21e98-6da4-45a7-8a29-ac767ebeba32"
      },
      "execution_count": 121,
      "outputs": [
        {
          "output_type": "stream",
          "name": "stdout",
          "text": [
            "80.00% nos dados de treino\n",
            "20.00% nos dados de teste\n"
          ]
        }
      ]
    },
    {
      "cell_type": "code",
      "source": [
        "modelo_tree = DecisionTreeClassifier(random_state=1)\n",
        "modelo_tree.fit(x_treino, y_treino)\n",
        "y_forecast_tree = modelo_tree.predict(x_teste)"
      ],
      "metadata": {
        "id": "ZkobbyEqs8Oc"
      },
      "execution_count": 122,
      "outputs": []
    },
    {
      "cell_type": "code",
      "source": [
        "print(\"Exatidão (Accuracy): {0:.4f}\".format(metrics.accuracy_score(y_teste, y_forecast_tree)))\n",
        "print()\n",
        "print(\"Classification Report\")\n",
        "print(metrics.classification_report(y_teste, y_forecast_tree, labels = [1, 0]))"
      ],
      "metadata": {
        "colab": {
          "base_uri": "https://localhost:8080/"
        },
        "id": "mAV4rQGZtPzR",
        "outputId": "7f0376d8-9c61-4c9e-d1c9-c8525d13bfbe"
      },
      "execution_count": 123,
      "outputs": [
        {
          "output_type": "stream",
          "name": "stdout",
          "text": [
            "Exatidão (Accuracy): 1.0000\n",
            "\n",
            "Classification Report\n",
            "              precision    recall  f1-score   support\n",
            "\n",
            "           1       1.00      1.00      1.00      4288\n",
            "           0       1.00      1.00      1.00     17818\n",
            "\n",
            "    accuracy                           1.00     22106\n",
            "   macro avg       1.00      1.00      1.00     22106\n",
            "weighted avg       1.00      1.00      1.00     22106\n",
            "\n"
          ]
        }
      ]
    }
  ]
}